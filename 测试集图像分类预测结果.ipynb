{
 "cells": [
  {
   "cell_type": "code",
   "execution_count": 1,
   "metadata": {
    "collapsed": true
   },
   "outputs": [
    {
     "name": "stdout",
     "output_type": "stream",
     "text": [
      "device cuda:0\n"
     ]
    }
   ],
   "source": [
    "import os\n",
    "from tqdm import tqdm\n",
    "\n",
    "import numpy as np\n",
    "import pandas as pd\n",
    "\n",
    "from PIL import Image\n",
    "\n",
    "import torch\n",
    "import torch.nn.functional as F\n",
    "\n",
    "# 有 GPU 就用 GPU，没有就用 CPU\n",
    "device = torch.device('cuda:0' if torch.cuda.is_available() else 'cpu')\n",
    "print('device', device)\n"
   ]
  },
  {
   "cell_type": "markdown",
   "source": [
    "图像预处理\n"
   ],
   "metadata": {
    "collapsed": false
   }
  },
  {
   "cell_type": "code",
   "execution_count": 3,
   "outputs": [],
   "source": [
    "from torchvision import transforms\n",
    "# 测试集图像预处理-RCTN：缩放、裁剪、转 Tensor、归一化\n",
    "test_transform = transforms.Compose([transforms.Resize(256),\n",
    "                                     transforms.CenterCrop(224),\n",
    "                                     transforms.ToTensor(),\n",
    "                                     transforms.Normalize(\n",
    "                                         mean=[0.485, 0.456, 0.406],\n",
    "                                         std=[0.229, 0.224, 0.225])\n",
    "                                    ])\n"
   ],
   "metadata": {
    "collapsed": false,
    "pycharm": {
     "name": "#%%\n"
    }
   }
  },
  {
   "cell_type": "markdown",
   "source": [
    "载入测试集（和训练代码教程相同）\n"
   ],
   "metadata": {
    "collapsed": false
   }
  },
  {
   "cell_type": "code",
   "execution_count": 4,
   "outputs": [
    {
     "name": "stdout",
     "output_type": "stream",
     "text": [
      "测试集图像数量 1068\n",
      "类别个数 89\n",
      "各类别名称 ['乌鸦', '乌龟', '仓鼠', '企鹅', '兔子', '刺猬', '啄木鸟', '土狼', '大猩猩', '大象', '奶牛', '山羊', '斑马', '松鼠', '毛毛虫', '水母', '水獭', '河马', '浣熊', '海星', '海豚', '海豹', '海马', '火烈鸟', '火鸡', '熊', '熊猫', '牛', '牡蛎', '犀牛', '犀鸟', '狐狸', '狗', '狮子', '狼', '猩猩', '猪', '猫', '猫头鹰', '獾', '瓢虫', '甲虫', '章鱼', '羊', '羚羊', '老虎', '老鼠', '考拉', '苍蝇', '蚊子', '蚱蜢', '蛇', '蛾', '蜂鸟', '蜜蜂', '蜥蜴', '蜻蜓', '蝙蝠', '蝴蝶', '蟑螂', '蟹', '袋熊', '袋鼠', '豪猪', '豹', '负鼠', '野牛', '野猪', '金鱼', '霍加皮', '马', '驯鹿', '驴', '鬣狗', '鱿鱼', '鲨鱼', '鲸鱼', '鸭', '鸽子', '鹅', '鹈鹕', '鹦鹉', '鹬', '鹰', '鹿', '麻雀', '黑猩猩', '鼠', '龙虾']\n",
      "['乌鸦', '乌龟', '仓鼠', '企鹅', '兔子', '刺猬', '啄木鸟', '土狼', '大猩猩', '大象', '奶牛', '山羊', '斑马', '松鼠', '毛毛虫', '水母', '水獭', '河马', '浣熊', '海星', '海豚', '海豹', '海马', '火烈鸟', '火鸡', '熊', '熊猫', '牛', '牡蛎', '犀牛', '犀鸟', '狐狸', '狗', '狮子', '狼', '猩猩', '猪', '猫', '猫头鹰', '獾', '瓢虫', '甲虫', '章鱼', '羊', '羚羊', '老虎', '老鼠', '考拉', '苍蝇', '蚊子', '蚱蜢', '蛇', '蛾', '蜂鸟', '蜜蜂', '蜥蜴', '蜻蜓', '蝙蝠', '蝴蝶', '蟑螂', '蟹', '袋熊', '袋鼠', '豪猪', '豹', '负鼠', '野牛', '野猪', '金鱼', '霍加皮', '马', '驯鹿', '驴', '鬣狗', '鱿鱼', '鲨鱼', '鲸鱼', '鸭', '鸽子', '鹅', '鹈鹕', '鹦鹉', '鹬', '鹰', '鹿', '麻雀', '黑猩猩', '鼠', '龙虾']\n"
     ]
    }
   ],
   "source": [
    "# 数据集文件夹路径\n",
    "dataset_dir = 'animals_split'\n",
    "test_path = os.path.join(dataset_dir, 'val')\n",
    "from torchvision import datasets\n",
    "# 载入测试集\n",
    "test_dataset = datasets.ImageFolder(test_path, test_transform)\n",
    "print('测试集图像数量', len(test_dataset))\n",
    "print('类别个数', len(test_dataset.classes))\n",
    "print('各类别名称', test_dataset.classes)\n",
    "# 载入类别名称 和 ID索引号 的映射字典\n",
    "idx_to_labels = np.load('idx_to_labels.npy', allow_pickle=True).item()\n",
    "# 获得类别名称\n",
    "classes = list(idx_to_labels.values())\n",
    "print(classes)\n"
   ],
   "metadata": {
    "collapsed": false,
    "pycharm": {
     "name": "#%%\n"
    }
   }
  },
  {
   "cell_type": "markdown",
   "source": [
    "导入训练好的模型\n"
   ],
   "metadata": {
    "collapsed": false
   }
  },
  {
   "cell_type": "code",
   "execution_count": 5,
   "outputs": [],
   "source": [
    "model = torch.load('checkpoints/best-0.895.pth')\n",
    "model = model.eval().to(device)\n"
   ],
   "metadata": {
    "collapsed": false,
    "pycharm": {
     "name": "#%%\n"
    }
   }
  },
  {
   "cell_type": "markdown",
   "source": [
    "表格A-测试集图像路径及标注\n",
    "\n"
   ],
   "metadata": {
    "collapsed": false,
    "pycharm": {
     "name": "#%% md\n"
    }
   }
  },
  {
   "cell_type": "code",
   "execution_count": 6,
   "outputs": [
    {
     "data": {
      "text/plain": "[('animals_split\\\\val\\\\乌鸦\\\\197c1012ba.jpg', 0),\n ('animals_split\\\\val\\\\乌鸦\\\\1ecc081899.jpg', 0),\n ('animals_split\\\\val\\\\乌鸦\\\\2caed0387c.jpg', 0),\n ('animals_split\\\\val\\\\乌鸦\\\\376fae5ad1.jpg', 0),\n ('animals_split\\\\val\\\\乌鸦\\\\495ee7079c.jpg', 0),\n ('animals_split\\\\val\\\\乌鸦\\\\5bd195cf29.jpg', 0),\n ('animals_split\\\\val\\\\乌鸦\\\\6d60806c01.jpg', 0),\n ('animals_split\\\\val\\\\乌鸦\\\\6dab0b74ff.jpg', 0),\n ('animals_split\\\\val\\\\乌鸦\\\\77fefab966.jpg', 0),\n ('animals_split\\\\val\\\\乌鸦\\\\8b94b5d529.jpg', 0)]"
     },
     "execution_count": 6,
     "metadata": {},
     "output_type": "execute_result"
    }
   ],
   "source": [
    "test_dataset.imgs[:10]\n"
   ],
   "metadata": {
    "collapsed": false,
    "pycharm": {
     "name": "#%%\n"
    }
   }
  },
  {
   "cell_type": "code",
   "execution_count": 7,
   "outputs": [],
   "source": [
    "img_paths = [each[0] for each in test_dataset.imgs]\n"
   ],
   "metadata": {
    "collapsed": false,
    "pycharm": {
     "name": "#%%\n"
    }
   }
  },
  {
   "cell_type": "code",
   "execution_count": 8,
   "outputs": [],
   "source": [
    "df = pd.DataFrame()\n",
    "df['图像路径'] = img_paths\n",
    "df['标注类别ID'] = test_dataset.targets\n",
    "df['标注类别名称'] = [idx_to_labels[ID] for ID in test_dataset.targets]\n"
   ],
   "metadata": {
    "collapsed": false,
    "pycharm": {
     "name": "#%%\n"
    }
   }
  },
  {
   "cell_type": "code",
   "execution_count": 9,
   "outputs": [
    {
     "data": {
      "text/plain": "                                     图像路径  标注类别ID 标注类别名称\n0     animals_split\\val\\乌鸦\\197c1012ba.jpg       0     乌鸦\n1     animals_split\\val\\乌鸦\\1ecc081899.jpg       0     乌鸦\n2     animals_split\\val\\乌鸦\\2caed0387c.jpg       0     乌鸦\n3     animals_split\\val\\乌鸦\\376fae5ad1.jpg       0     乌鸦\n4     animals_split\\val\\乌鸦\\495ee7079c.jpg       0     乌鸦\n...                                   ...     ...    ...\n1063  animals_split\\val\\龙虾\\dc43d4b46c.jpg      88     龙虾\n1064  animals_split\\val\\龙虾\\de356673e0.jpg      88     龙虾\n1065  animals_split\\val\\龙虾\\ea19158455.jpg      88     龙虾\n1066  animals_split\\val\\龙虾\\eaaa72b4e1.jpg      88     龙虾\n1067  animals_split\\val\\龙虾\\f63ab72460.jpg      88     龙虾\n\n[1068 rows x 3 columns]",
      "text/html": "<div>\n<style scoped>\n    .dataframe tbody tr th:only-of-type {\n        vertical-align: middle;\n    }\n\n    .dataframe tbody tr th {\n        vertical-align: top;\n    }\n\n    .dataframe thead th {\n        text-align: right;\n    }\n</style>\n<table border=\"1\" class=\"dataframe\">\n  <thead>\n    <tr style=\"text-align: right;\">\n      <th></th>\n      <th>图像路径</th>\n      <th>标注类别ID</th>\n      <th>标注类别名称</th>\n    </tr>\n  </thead>\n  <tbody>\n    <tr>\n      <th>0</th>\n      <td>animals_split\\val\\乌鸦\\197c1012ba.jpg</td>\n      <td>0</td>\n      <td>乌鸦</td>\n    </tr>\n    <tr>\n      <th>1</th>\n      <td>animals_split\\val\\乌鸦\\1ecc081899.jpg</td>\n      <td>0</td>\n      <td>乌鸦</td>\n    </tr>\n    <tr>\n      <th>2</th>\n      <td>animals_split\\val\\乌鸦\\2caed0387c.jpg</td>\n      <td>0</td>\n      <td>乌鸦</td>\n    </tr>\n    <tr>\n      <th>3</th>\n      <td>animals_split\\val\\乌鸦\\376fae5ad1.jpg</td>\n      <td>0</td>\n      <td>乌鸦</td>\n    </tr>\n    <tr>\n      <th>4</th>\n      <td>animals_split\\val\\乌鸦\\495ee7079c.jpg</td>\n      <td>0</td>\n      <td>乌鸦</td>\n    </tr>\n    <tr>\n      <th>...</th>\n      <td>...</td>\n      <td>...</td>\n      <td>...</td>\n    </tr>\n    <tr>\n      <th>1063</th>\n      <td>animals_split\\val\\龙虾\\dc43d4b46c.jpg</td>\n      <td>88</td>\n      <td>龙虾</td>\n    </tr>\n    <tr>\n      <th>1064</th>\n      <td>animals_split\\val\\龙虾\\de356673e0.jpg</td>\n      <td>88</td>\n      <td>龙虾</td>\n    </tr>\n    <tr>\n      <th>1065</th>\n      <td>animals_split\\val\\龙虾\\ea19158455.jpg</td>\n      <td>88</td>\n      <td>龙虾</td>\n    </tr>\n    <tr>\n      <th>1066</th>\n      <td>animals_split\\val\\龙虾\\eaaa72b4e1.jpg</td>\n      <td>88</td>\n      <td>龙虾</td>\n    </tr>\n    <tr>\n      <th>1067</th>\n      <td>animals_split\\val\\龙虾\\f63ab72460.jpg</td>\n      <td>88</td>\n      <td>龙虾</td>\n    </tr>\n  </tbody>\n</table>\n<p>1068 rows × 3 columns</p>\n</div>"
     },
     "execution_count": 9,
     "metadata": {},
     "output_type": "execute_result"
    }
   ],
   "source": [
    "df\n"
   ],
   "metadata": {
    "collapsed": false,
    "pycharm": {
     "name": "#%%\n"
    }
   }
  },
  {
   "cell_type": "markdown",
   "source": [
    "表格B-测试集每张图像的图像分类预测结果，以及各类别置信度\n"
   ],
   "metadata": {
    "collapsed": false
   }
  },
  {
   "cell_type": "code",
   "execution_count": 10,
   "outputs": [],
   "source": [
    "# 记录 top-n 预测结果\n",
    "n = 3\n"
   ],
   "metadata": {
    "collapsed": false,
    "pycharm": {
     "name": "#%%\n"
    }
   }
  },
  {
   "cell_type": "code",
   "source": [
    "df_pred = pd.DataFrame()\n",
    "for idx, row in tqdm(df.iterrows()):\n",
    "    img_path = row['图像路径']\n",
    "    img_pil = Image.open(img_path).convert('RGB')\n",
    "    input_img = test_transform(img_pil).unsqueeze(0).to(device) # 预处理\n",
    "    pred_logits = model(input_img) # 执行前向预测，得到所有类别的 logit 预测分数\n",
    "    pred_softmax = F.softmax(pred_logits, dim=1) # 对 logit 分数做 softmax 运算\n",
    "\n",
    "    pred_dict = {}\n",
    "\n",
    "    top_n = torch.topk(pred_softmax, n) # 取置信度最大的 n 个结果\n",
    "    pred_ids = top_n[1].cpu().detach().numpy().squeeze() # 解析出类别\n",
    "\n",
    "    # top-n 预测结果\n",
    "    for i in range(1, n+1):\n",
    "        pred_dict['top-{}-预测ID'.format(i)] = pred_ids[i-1]\n",
    "        pred_dict['top-{}-预测名称'.format(i)] = idx_to_labels[pred_ids[i-1]]\n",
    "    pred_dict['top-n预测正确'] = row['标注类别ID'] in pred_ids\n",
    "    # 每个类别的预测置信度\n",
    "    for idx, each in enumerate(classes):\n",
    "        pred_dict['{}-预测置信度'.format(each)] = pred_softmax[0][idx].cpu().detach().numpy()\n",
    "\n",
    "    df_pred = df_pred.append(pred_dict, ignore_index=True)\n"
   ],
   "metadata": {
    "collapsed": false,
    "pycharm": {
     "name": "#%%\n"
    }
   },
   "execution_count": 11,
   "outputs": [
    {
     "name": "stderr",
     "output_type": "stream",
     "text": [
      "1068it [00:58, 18.38it/s]\n"
     ]
    }
   ]
  },
  {
   "cell_type": "code",
   "execution_count": 12,
   "outputs": [
    {
     "data": {
      "text/plain": "      top-1-预测ID top-1-预测名称  top-2-预测ID top-2-预测名称  top-3-预测ID top-3-预测名称  \\\n0            0.0         乌鸦        30.0         犀鸟        83.0          鹰   \n1           77.0          鸭        78.0         鸽子         0.0         乌鸦   \n2            0.0         乌鸦        78.0         鸽子         6.0        啄木鸟   \n3            0.0         乌鸦        78.0         鸽子         6.0        啄木鸟   \n4           83.0          鹰         0.0         乌鸦        30.0         犀鸟   \n...          ...        ...         ...        ...         ...        ...   \n1063        88.0         龙虾        60.0          蟹        59.0         蟑螂   \n1064        88.0         龙虾        60.0          蟹        56.0         蜻蜓   \n1065        88.0         龙虾        60.0          蟹        74.0         鱿鱼   \n1066        88.0         龙虾        60.0          蟹        74.0         鱿鱼   \n1067        88.0         龙虾        60.0          蟹        74.0         鱿鱼   \n\n      top-n预测正确       乌鸦-预测置信度       乌龟-预测置信度       仓鼠-预测置信度  ...  \\\n0           1.0     0.62409204  5.7089397e-05   3.960545e-06  ...   \n1           1.0     0.09595812   5.485807e-07  1.5676331e-06  ...   \n2           1.0      0.9935409   3.293732e-08  1.8917921e-08  ...   \n3           1.0      0.9935422   2.438844e-07  4.7850147e-08  ...   \n4           1.0     0.18843515   5.147259e-06  2.1537948e-08  ...   \n...         ...            ...            ...            ...  ...   \n1063        1.0   3.453474e-10  3.2764396e-09  1.0872233e-09  ...   \n1064        1.0    6.79151e-08   2.936218e-07  3.7791272e-09  ...   \n1065        1.0  2.8715414e-09  4.4415795e-09   3.108521e-09  ...   \n1066        1.0  3.2633007e-10   8.568386e-09  3.8827083e-10  ...   \n1067        1.0    9.65556e-10  6.3956136e-08   2.404547e-09  ...   \n\n            鹅-预测置信度       鹈鹕-预测置信度       鹦鹉-预测置信度         鹬-预测置信度  \\\n0         0.0240693    0.004872751   0.0011937084   0.00043772126   \n1        0.04427672   0.0022551445  0.00035208167   0.00015695929   \n2     2.8461836e-05   3.236827e-05  0.00020189308   1.9516895e-06   \n3     1.8611076e-05   4.295955e-05  1.0557129e-05  1.06321595e-05   \n4      0.0006057041   0.0063642454  0.00018673188    4.524062e-06   \n...             ...            ...            ...             ...   \n1063  1.4279539e-09   2.613506e-09  4.4026964e-09    8.515743e-11   \n1064  2.1524198e-07  5.4483263e-07  7.4433686e-08    6.269045e-08   \n1065   9.239284e-09  1.6083183e-08    5.57919e-08    9.524478e-10   \n1066   2.772367e-09  1.6431795e-07  3.0059123e-08   2.5100195e-09   \n1067  1.7119264e-08   5.071337e-08   2.720239e-08    6.671877e-10   \n\n            鹰-预测置信度        鹿-预测置信度       麻雀-预测置信度       黑猩猩-预测置信度  \\\n0       0.029289432   0.0002210004   0.0055506774    0.0005904294   \n1      0.0028310164  0.00018244985    0.042417698    2.522623e-05   \n2     6.8449954e-05   2.714902e-07   0.0005240315   2.6782375e-06   \n3      0.0010665988  1.1799222e-06   0.0006836885   7.6174856e-06   \n4         0.7659334   8.273503e-07   8.859905e-06   7.9337355e-05   \n...             ...            ...            ...             ...   \n1063  2.0430582e-10  4.0533705e-09  4.7579265e-09   6.2406125e-10   \n1064  3.0604514e-07    5.96325e-07  4.3452446e-06  1.13680825e-08   \n1065  1.1292259e-08  2.2446065e-09  2.7057894e-08   1.0397476e-09   \n1066  1.5430163e-09  1.1378797e-08  2.0243078e-08   2.2770925e-09   \n1067  4.6204276e-09   3.714672e-09  3.6698964e-09   2.8291325e-10   \n\n            鼠-预测置信度       龙虾-预测置信度  \n0      0.0004436836  4.6173645e-06  \n1     5.8904996e-05  1.5373966e-07  \n2     5.9254674e-08    7.59576e-09  \n3      5.213173e-07  2.7790225e-07  \n4     1.0769833e-06  2.6680604e-07  \n...             ...            ...  \n1063  3.2188523e-09     0.99897647  \n1064  5.5919497e-08      0.9976295  \n1065   2.168128e-09     0.97359496  \n1066  1.2519901e-08      0.9981528  \n1067  1.0368205e-07     0.99830675  \n\n[1068 rows x 96 columns]",
      "text/html": "<div>\n<style scoped>\n    .dataframe tbody tr th:only-of-type {\n        vertical-align: middle;\n    }\n\n    .dataframe tbody tr th {\n        vertical-align: top;\n    }\n\n    .dataframe thead th {\n        text-align: right;\n    }\n</style>\n<table border=\"1\" class=\"dataframe\">\n  <thead>\n    <tr style=\"text-align: right;\">\n      <th></th>\n      <th>top-1-预测ID</th>\n      <th>top-1-预测名称</th>\n      <th>top-2-预测ID</th>\n      <th>top-2-预测名称</th>\n      <th>top-3-预测ID</th>\n      <th>top-3-预测名称</th>\n      <th>top-n预测正确</th>\n      <th>乌鸦-预测置信度</th>\n      <th>乌龟-预测置信度</th>\n      <th>仓鼠-预测置信度</th>\n      <th>...</th>\n      <th>鹅-预测置信度</th>\n      <th>鹈鹕-预测置信度</th>\n      <th>鹦鹉-预测置信度</th>\n      <th>鹬-预测置信度</th>\n      <th>鹰-预测置信度</th>\n      <th>鹿-预测置信度</th>\n      <th>麻雀-预测置信度</th>\n      <th>黑猩猩-预测置信度</th>\n      <th>鼠-预测置信度</th>\n      <th>龙虾-预测置信度</th>\n    </tr>\n  </thead>\n  <tbody>\n    <tr>\n      <th>0</th>\n      <td>0.0</td>\n      <td>乌鸦</td>\n      <td>30.0</td>\n      <td>犀鸟</td>\n      <td>83.0</td>\n      <td>鹰</td>\n      <td>1.0</td>\n      <td>0.62409204</td>\n      <td>5.7089397e-05</td>\n      <td>3.960545e-06</td>\n      <td>...</td>\n      <td>0.0240693</td>\n      <td>0.004872751</td>\n      <td>0.0011937084</td>\n      <td>0.00043772126</td>\n      <td>0.029289432</td>\n      <td>0.0002210004</td>\n      <td>0.0055506774</td>\n      <td>0.0005904294</td>\n      <td>0.0004436836</td>\n      <td>4.6173645e-06</td>\n    </tr>\n    <tr>\n      <th>1</th>\n      <td>77.0</td>\n      <td>鸭</td>\n      <td>78.0</td>\n      <td>鸽子</td>\n      <td>0.0</td>\n      <td>乌鸦</td>\n      <td>1.0</td>\n      <td>0.09595812</td>\n      <td>5.485807e-07</td>\n      <td>1.5676331e-06</td>\n      <td>...</td>\n      <td>0.04427672</td>\n      <td>0.0022551445</td>\n      <td>0.00035208167</td>\n      <td>0.00015695929</td>\n      <td>0.0028310164</td>\n      <td>0.00018244985</td>\n      <td>0.042417698</td>\n      <td>2.522623e-05</td>\n      <td>5.8904996e-05</td>\n      <td>1.5373966e-07</td>\n    </tr>\n    <tr>\n      <th>2</th>\n      <td>0.0</td>\n      <td>乌鸦</td>\n      <td>78.0</td>\n      <td>鸽子</td>\n      <td>6.0</td>\n      <td>啄木鸟</td>\n      <td>1.0</td>\n      <td>0.9935409</td>\n      <td>3.293732e-08</td>\n      <td>1.8917921e-08</td>\n      <td>...</td>\n      <td>2.8461836e-05</td>\n      <td>3.236827e-05</td>\n      <td>0.00020189308</td>\n      <td>1.9516895e-06</td>\n      <td>6.8449954e-05</td>\n      <td>2.714902e-07</td>\n      <td>0.0005240315</td>\n      <td>2.6782375e-06</td>\n      <td>5.9254674e-08</td>\n      <td>7.59576e-09</td>\n    </tr>\n    <tr>\n      <th>3</th>\n      <td>0.0</td>\n      <td>乌鸦</td>\n      <td>78.0</td>\n      <td>鸽子</td>\n      <td>6.0</td>\n      <td>啄木鸟</td>\n      <td>1.0</td>\n      <td>0.9935422</td>\n      <td>2.438844e-07</td>\n      <td>4.7850147e-08</td>\n      <td>...</td>\n      <td>1.8611076e-05</td>\n      <td>4.295955e-05</td>\n      <td>1.0557129e-05</td>\n      <td>1.06321595e-05</td>\n      <td>0.0010665988</td>\n      <td>1.1799222e-06</td>\n      <td>0.0006836885</td>\n      <td>7.6174856e-06</td>\n      <td>5.213173e-07</td>\n      <td>2.7790225e-07</td>\n    </tr>\n    <tr>\n      <th>4</th>\n      <td>83.0</td>\n      <td>鹰</td>\n      <td>0.0</td>\n      <td>乌鸦</td>\n      <td>30.0</td>\n      <td>犀鸟</td>\n      <td>1.0</td>\n      <td>0.18843515</td>\n      <td>5.147259e-06</td>\n      <td>2.1537948e-08</td>\n      <td>...</td>\n      <td>0.0006057041</td>\n      <td>0.0063642454</td>\n      <td>0.00018673188</td>\n      <td>4.524062e-06</td>\n      <td>0.7659334</td>\n      <td>8.273503e-07</td>\n      <td>8.859905e-06</td>\n      <td>7.9337355e-05</td>\n      <td>1.0769833e-06</td>\n      <td>2.6680604e-07</td>\n    </tr>\n    <tr>\n      <th>...</th>\n      <td>...</td>\n      <td>...</td>\n      <td>...</td>\n      <td>...</td>\n      <td>...</td>\n      <td>...</td>\n      <td>...</td>\n      <td>...</td>\n      <td>...</td>\n      <td>...</td>\n      <td>...</td>\n      <td>...</td>\n      <td>...</td>\n      <td>...</td>\n      <td>...</td>\n      <td>...</td>\n      <td>...</td>\n      <td>...</td>\n      <td>...</td>\n      <td>...</td>\n      <td>...</td>\n    </tr>\n    <tr>\n      <th>1063</th>\n      <td>88.0</td>\n      <td>龙虾</td>\n      <td>60.0</td>\n      <td>蟹</td>\n      <td>59.0</td>\n      <td>蟑螂</td>\n      <td>1.0</td>\n      <td>3.453474e-10</td>\n      <td>3.2764396e-09</td>\n      <td>1.0872233e-09</td>\n      <td>...</td>\n      <td>1.4279539e-09</td>\n      <td>2.613506e-09</td>\n      <td>4.4026964e-09</td>\n      <td>8.515743e-11</td>\n      <td>2.0430582e-10</td>\n      <td>4.0533705e-09</td>\n      <td>4.7579265e-09</td>\n      <td>6.2406125e-10</td>\n      <td>3.2188523e-09</td>\n      <td>0.99897647</td>\n    </tr>\n    <tr>\n      <th>1064</th>\n      <td>88.0</td>\n      <td>龙虾</td>\n      <td>60.0</td>\n      <td>蟹</td>\n      <td>56.0</td>\n      <td>蜻蜓</td>\n      <td>1.0</td>\n      <td>6.79151e-08</td>\n      <td>2.936218e-07</td>\n      <td>3.7791272e-09</td>\n      <td>...</td>\n      <td>2.1524198e-07</td>\n      <td>5.4483263e-07</td>\n      <td>7.4433686e-08</td>\n      <td>6.269045e-08</td>\n      <td>3.0604514e-07</td>\n      <td>5.96325e-07</td>\n      <td>4.3452446e-06</td>\n      <td>1.13680825e-08</td>\n      <td>5.5919497e-08</td>\n      <td>0.9976295</td>\n    </tr>\n    <tr>\n      <th>1065</th>\n      <td>88.0</td>\n      <td>龙虾</td>\n      <td>60.0</td>\n      <td>蟹</td>\n      <td>74.0</td>\n      <td>鱿鱼</td>\n      <td>1.0</td>\n      <td>2.8715414e-09</td>\n      <td>4.4415795e-09</td>\n      <td>3.108521e-09</td>\n      <td>...</td>\n      <td>9.239284e-09</td>\n      <td>1.6083183e-08</td>\n      <td>5.57919e-08</td>\n      <td>9.524478e-10</td>\n      <td>1.1292259e-08</td>\n      <td>2.2446065e-09</td>\n      <td>2.7057894e-08</td>\n      <td>1.0397476e-09</td>\n      <td>2.168128e-09</td>\n      <td>0.97359496</td>\n    </tr>\n    <tr>\n      <th>1066</th>\n      <td>88.0</td>\n      <td>龙虾</td>\n      <td>60.0</td>\n      <td>蟹</td>\n      <td>74.0</td>\n      <td>鱿鱼</td>\n      <td>1.0</td>\n      <td>3.2633007e-10</td>\n      <td>8.568386e-09</td>\n      <td>3.8827083e-10</td>\n      <td>...</td>\n      <td>2.772367e-09</td>\n      <td>1.6431795e-07</td>\n      <td>3.0059123e-08</td>\n      <td>2.5100195e-09</td>\n      <td>1.5430163e-09</td>\n      <td>1.1378797e-08</td>\n      <td>2.0243078e-08</td>\n      <td>2.2770925e-09</td>\n      <td>1.2519901e-08</td>\n      <td>0.9981528</td>\n    </tr>\n    <tr>\n      <th>1067</th>\n      <td>88.0</td>\n      <td>龙虾</td>\n      <td>60.0</td>\n      <td>蟹</td>\n      <td>74.0</td>\n      <td>鱿鱼</td>\n      <td>1.0</td>\n      <td>9.65556e-10</td>\n      <td>6.3956136e-08</td>\n      <td>2.404547e-09</td>\n      <td>...</td>\n      <td>1.7119264e-08</td>\n      <td>5.071337e-08</td>\n      <td>2.720239e-08</td>\n      <td>6.671877e-10</td>\n      <td>4.6204276e-09</td>\n      <td>3.714672e-09</td>\n      <td>3.6698964e-09</td>\n      <td>2.8291325e-10</td>\n      <td>1.0368205e-07</td>\n      <td>0.99830675</td>\n    </tr>\n  </tbody>\n</table>\n<p>1068 rows × 96 columns</p>\n</div>"
     },
     "execution_count": 12,
     "metadata": {},
     "output_type": "execute_result"
    }
   ],
   "source": [
    "df_pred\n"
   ],
   "metadata": {
    "collapsed": false,
    "pycharm": {
     "name": "#%%\n"
    }
   }
  },
  {
   "cell_type": "markdown",
   "source": [
    "拼接AB两张表格\n"
   ],
   "metadata": {
    "collapsed": false
   }
  },
  {
   "cell_type": "code",
   "execution_count": 13,
   "outputs": [],
   "source": [
    "df = pd.concat([df, df_pred], axis=1)\n"
   ],
   "metadata": {
    "collapsed": false,
    "pycharm": {
     "name": "#%%\n"
    }
   }
  },
  {
   "cell_type": "code",
   "execution_count": 14,
   "outputs": [
    {
     "data": {
      "text/plain": "                                     图像路径  标注类别ID 标注类别名称  top-1-预测ID  \\\n0     animals_split\\val\\乌鸦\\197c1012ba.jpg       0     乌鸦         0.0   \n1     animals_split\\val\\乌鸦\\1ecc081899.jpg       0     乌鸦        77.0   \n2     animals_split\\val\\乌鸦\\2caed0387c.jpg       0     乌鸦         0.0   \n3     animals_split\\val\\乌鸦\\376fae5ad1.jpg       0     乌鸦         0.0   \n4     animals_split\\val\\乌鸦\\495ee7079c.jpg       0     乌鸦        83.0   \n...                                   ...     ...    ...         ...   \n1063  animals_split\\val\\龙虾\\dc43d4b46c.jpg      88     龙虾        88.0   \n1064  animals_split\\val\\龙虾\\de356673e0.jpg      88     龙虾        88.0   \n1065  animals_split\\val\\龙虾\\ea19158455.jpg      88     龙虾        88.0   \n1066  animals_split\\val\\龙虾\\eaaa72b4e1.jpg      88     龙虾        88.0   \n1067  animals_split\\val\\龙虾\\f63ab72460.jpg      88     龙虾        88.0   \n\n     top-1-预测名称  top-2-预测ID top-2-预测名称  top-3-预测ID top-3-预测名称  top-n预测正确  ...  \\\n0            乌鸦        30.0         犀鸟        83.0          鹰        1.0  ...   \n1             鸭        78.0         鸽子         0.0         乌鸦        1.0  ...   \n2            乌鸦        78.0         鸽子         6.0        啄木鸟        1.0  ...   \n3            乌鸦        78.0         鸽子         6.0        啄木鸟        1.0  ...   \n4             鹰         0.0         乌鸦        30.0         犀鸟        1.0  ...   \n...         ...         ...        ...         ...        ...        ...  ...   \n1063         龙虾        60.0          蟹        59.0         蟑螂        1.0  ...   \n1064         龙虾        60.0          蟹        56.0         蜻蜓        1.0  ...   \n1065         龙虾        60.0          蟹        74.0         鱿鱼        1.0  ...   \n1066         龙虾        60.0          蟹        74.0         鱿鱼        1.0  ...   \n1067         龙虾        60.0          蟹        74.0         鱿鱼        1.0  ...   \n\n            鹅-预测置信度       鹈鹕-预测置信度       鹦鹉-预测置信度         鹬-预测置信度  \\\n0         0.0240693    0.004872751   0.0011937084   0.00043772126   \n1        0.04427672   0.0022551445  0.00035208167   0.00015695929   \n2     2.8461836e-05   3.236827e-05  0.00020189308   1.9516895e-06   \n3     1.8611076e-05   4.295955e-05  1.0557129e-05  1.06321595e-05   \n4      0.0006057041   0.0063642454  0.00018673188    4.524062e-06   \n...             ...            ...            ...             ...   \n1063  1.4279539e-09   2.613506e-09  4.4026964e-09    8.515743e-11   \n1064  2.1524198e-07  5.4483263e-07  7.4433686e-08    6.269045e-08   \n1065   9.239284e-09  1.6083183e-08    5.57919e-08    9.524478e-10   \n1066   2.772367e-09  1.6431795e-07  3.0059123e-08   2.5100195e-09   \n1067  1.7119264e-08   5.071337e-08   2.720239e-08    6.671877e-10   \n\n            鹰-预测置信度        鹿-预测置信度       麻雀-预测置信度       黑猩猩-预测置信度  \\\n0       0.029289432   0.0002210004   0.0055506774    0.0005904294   \n1      0.0028310164  0.00018244985    0.042417698    2.522623e-05   \n2     6.8449954e-05   2.714902e-07   0.0005240315   2.6782375e-06   \n3      0.0010665988  1.1799222e-06   0.0006836885   7.6174856e-06   \n4         0.7659334   8.273503e-07   8.859905e-06   7.9337355e-05   \n...             ...            ...            ...             ...   \n1063  2.0430582e-10  4.0533705e-09  4.7579265e-09   6.2406125e-10   \n1064  3.0604514e-07    5.96325e-07  4.3452446e-06  1.13680825e-08   \n1065  1.1292259e-08  2.2446065e-09  2.7057894e-08   1.0397476e-09   \n1066  1.5430163e-09  1.1378797e-08  2.0243078e-08   2.2770925e-09   \n1067  4.6204276e-09   3.714672e-09  3.6698964e-09   2.8291325e-10   \n\n            鼠-预测置信度       龙虾-预测置信度  \n0      0.0004436836  4.6173645e-06  \n1     5.8904996e-05  1.5373966e-07  \n2     5.9254674e-08    7.59576e-09  \n3      5.213173e-07  2.7790225e-07  \n4     1.0769833e-06  2.6680604e-07  \n...             ...            ...  \n1063  3.2188523e-09     0.99897647  \n1064  5.5919497e-08      0.9976295  \n1065   2.168128e-09     0.97359496  \n1066  1.2519901e-08      0.9981528  \n1067  1.0368205e-07     0.99830675  \n\n[1068 rows x 99 columns]",
      "text/html": "<div>\n<style scoped>\n    .dataframe tbody tr th:only-of-type {\n        vertical-align: middle;\n    }\n\n    .dataframe tbody tr th {\n        vertical-align: top;\n    }\n\n    .dataframe thead th {\n        text-align: right;\n    }\n</style>\n<table border=\"1\" class=\"dataframe\">\n  <thead>\n    <tr style=\"text-align: right;\">\n      <th></th>\n      <th>图像路径</th>\n      <th>标注类别ID</th>\n      <th>标注类别名称</th>\n      <th>top-1-预测ID</th>\n      <th>top-1-预测名称</th>\n      <th>top-2-预测ID</th>\n      <th>top-2-预测名称</th>\n      <th>top-3-预测ID</th>\n      <th>top-3-预测名称</th>\n      <th>top-n预测正确</th>\n      <th>...</th>\n      <th>鹅-预测置信度</th>\n      <th>鹈鹕-预测置信度</th>\n      <th>鹦鹉-预测置信度</th>\n      <th>鹬-预测置信度</th>\n      <th>鹰-预测置信度</th>\n      <th>鹿-预测置信度</th>\n      <th>麻雀-预测置信度</th>\n      <th>黑猩猩-预测置信度</th>\n      <th>鼠-预测置信度</th>\n      <th>龙虾-预测置信度</th>\n    </tr>\n  </thead>\n  <tbody>\n    <tr>\n      <th>0</th>\n      <td>animals_split\\val\\乌鸦\\197c1012ba.jpg</td>\n      <td>0</td>\n      <td>乌鸦</td>\n      <td>0.0</td>\n      <td>乌鸦</td>\n      <td>30.0</td>\n      <td>犀鸟</td>\n      <td>83.0</td>\n      <td>鹰</td>\n      <td>1.0</td>\n      <td>...</td>\n      <td>0.0240693</td>\n      <td>0.004872751</td>\n      <td>0.0011937084</td>\n      <td>0.00043772126</td>\n      <td>0.029289432</td>\n      <td>0.0002210004</td>\n      <td>0.0055506774</td>\n      <td>0.0005904294</td>\n      <td>0.0004436836</td>\n      <td>4.6173645e-06</td>\n    </tr>\n    <tr>\n      <th>1</th>\n      <td>animals_split\\val\\乌鸦\\1ecc081899.jpg</td>\n      <td>0</td>\n      <td>乌鸦</td>\n      <td>77.0</td>\n      <td>鸭</td>\n      <td>78.0</td>\n      <td>鸽子</td>\n      <td>0.0</td>\n      <td>乌鸦</td>\n      <td>1.0</td>\n      <td>...</td>\n      <td>0.04427672</td>\n      <td>0.0022551445</td>\n      <td>0.00035208167</td>\n      <td>0.00015695929</td>\n      <td>0.0028310164</td>\n      <td>0.00018244985</td>\n      <td>0.042417698</td>\n      <td>2.522623e-05</td>\n      <td>5.8904996e-05</td>\n      <td>1.5373966e-07</td>\n    </tr>\n    <tr>\n      <th>2</th>\n      <td>animals_split\\val\\乌鸦\\2caed0387c.jpg</td>\n      <td>0</td>\n      <td>乌鸦</td>\n      <td>0.0</td>\n      <td>乌鸦</td>\n      <td>78.0</td>\n      <td>鸽子</td>\n      <td>6.0</td>\n      <td>啄木鸟</td>\n      <td>1.0</td>\n      <td>...</td>\n      <td>2.8461836e-05</td>\n      <td>3.236827e-05</td>\n      <td>0.00020189308</td>\n      <td>1.9516895e-06</td>\n      <td>6.8449954e-05</td>\n      <td>2.714902e-07</td>\n      <td>0.0005240315</td>\n      <td>2.6782375e-06</td>\n      <td>5.9254674e-08</td>\n      <td>7.59576e-09</td>\n    </tr>\n    <tr>\n      <th>3</th>\n      <td>animals_split\\val\\乌鸦\\376fae5ad1.jpg</td>\n      <td>0</td>\n      <td>乌鸦</td>\n      <td>0.0</td>\n      <td>乌鸦</td>\n      <td>78.0</td>\n      <td>鸽子</td>\n      <td>6.0</td>\n      <td>啄木鸟</td>\n      <td>1.0</td>\n      <td>...</td>\n      <td>1.8611076e-05</td>\n      <td>4.295955e-05</td>\n      <td>1.0557129e-05</td>\n      <td>1.06321595e-05</td>\n      <td>0.0010665988</td>\n      <td>1.1799222e-06</td>\n      <td>0.0006836885</td>\n      <td>7.6174856e-06</td>\n      <td>5.213173e-07</td>\n      <td>2.7790225e-07</td>\n    </tr>\n    <tr>\n      <th>4</th>\n      <td>animals_split\\val\\乌鸦\\495ee7079c.jpg</td>\n      <td>0</td>\n      <td>乌鸦</td>\n      <td>83.0</td>\n      <td>鹰</td>\n      <td>0.0</td>\n      <td>乌鸦</td>\n      <td>30.0</td>\n      <td>犀鸟</td>\n      <td>1.0</td>\n      <td>...</td>\n      <td>0.0006057041</td>\n      <td>0.0063642454</td>\n      <td>0.00018673188</td>\n      <td>4.524062e-06</td>\n      <td>0.7659334</td>\n      <td>8.273503e-07</td>\n      <td>8.859905e-06</td>\n      <td>7.9337355e-05</td>\n      <td>1.0769833e-06</td>\n      <td>2.6680604e-07</td>\n    </tr>\n    <tr>\n      <th>...</th>\n      <td>...</td>\n      <td>...</td>\n      <td>...</td>\n      <td>...</td>\n      <td>...</td>\n      <td>...</td>\n      <td>...</td>\n      <td>...</td>\n      <td>...</td>\n      <td>...</td>\n      <td>...</td>\n      <td>...</td>\n      <td>...</td>\n      <td>...</td>\n      <td>...</td>\n      <td>...</td>\n      <td>...</td>\n      <td>...</td>\n      <td>...</td>\n      <td>...</td>\n      <td>...</td>\n    </tr>\n    <tr>\n      <th>1063</th>\n      <td>animals_split\\val\\龙虾\\dc43d4b46c.jpg</td>\n      <td>88</td>\n      <td>龙虾</td>\n      <td>88.0</td>\n      <td>龙虾</td>\n      <td>60.0</td>\n      <td>蟹</td>\n      <td>59.0</td>\n      <td>蟑螂</td>\n      <td>1.0</td>\n      <td>...</td>\n      <td>1.4279539e-09</td>\n      <td>2.613506e-09</td>\n      <td>4.4026964e-09</td>\n      <td>8.515743e-11</td>\n      <td>2.0430582e-10</td>\n      <td>4.0533705e-09</td>\n      <td>4.7579265e-09</td>\n      <td>6.2406125e-10</td>\n      <td>3.2188523e-09</td>\n      <td>0.99897647</td>\n    </tr>\n    <tr>\n      <th>1064</th>\n      <td>animals_split\\val\\龙虾\\de356673e0.jpg</td>\n      <td>88</td>\n      <td>龙虾</td>\n      <td>88.0</td>\n      <td>龙虾</td>\n      <td>60.0</td>\n      <td>蟹</td>\n      <td>56.0</td>\n      <td>蜻蜓</td>\n      <td>1.0</td>\n      <td>...</td>\n      <td>2.1524198e-07</td>\n      <td>5.4483263e-07</td>\n      <td>7.4433686e-08</td>\n      <td>6.269045e-08</td>\n      <td>3.0604514e-07</td>\n      <td>5.96325e-07</td>\n      <td>4.3452446e-06</td>\n      <td>1.13680825e-08</td>\n      <td>5.5919497e-08</td>\n      <td>0.9976295</td>\n    </tr>\n    <tr>\n      <th>1065</th>\n      <td>animals_split\\val\\龙虾\\ea19158455.jpg</td>\n      <td>88</td>\n      <td>龙虾</td>\n      <td>88.0</td>\n      <td>龙虾</td>\n      <td>60.0</td>\n      <td>蟹</td>\n      <td>74.0</td>\n      <td>鱿鱼</td>\n      <td>1.0</td>\n      <td>...</td>\n      <td>9.239284e-09</td>\n      <td>1.6083183e-08</td>\n      <td>5.57919e-08</td>\n      <td>9.524478e-10</td>\n      <td>1.1292259e-08</td>\n      <td>2.2446065e-09</td>\n      <td>2.7057894e-08</td>\n      <td>1.0397476e-09</td>\n      <td>2.168128e-09</td>\n      <td>0.97359496</td>\n    </tr>\n    <tr>\n      <th>1066</th>\n      <td>animals_split\\val\\龙虾\\eaaa72b4e1.jpg</td>\n      <td>88</td>\n      <td>龙虾</td>\n      <td>88.0</td>\n      <td>龙虾</td>\n      <td>60.0</td>\n      <td>蟹</td>\n      <td>74.0</td>\n      <td>鱿鱼</td>\n      <td>1.0</td>\n      <td>...</td>\n      <td>2.772367e-09</td>\n      <td>1.6431795e-07</td>\n      <td>3.0059123e-08</td>\n      <td>2.5100195e-09</td>\n      <td>1.5430163e-09</td>\n      <td>1.1378797e-08</td>\n      <td>2.0243078e-08</td>\n      <td>2.2770925e-09</td>\n      <td>1.2519901e-08</td>\n      <td>0.9981528</td>\n    </tr>\n    <tr>\n      <th>1067</th>\n      <td>animals_split\\val\\龙虾\\f63ab72460.jpg</td>\n      <td>88</td>\n      <td>龙虾</td>\n      <td>88.0</td>\n      <td>龙虾</td>\n      <td>60.0</td>\n      <td>蟹</td>\n      <td>74.0</td>\n      <td>鱿鱼</td>\n      <td>1.0</td>\n      <td>...</td>\n      <td>1.7119264e-08</td>\n      <td>5.071337e-08</td>\n      <td>2.720239e-08</td>\n      <td>6.671877e-10</td>\n      <td>4.6204276e-09</td>\n      <td>3.714672e-09</td>\n      <td>3.6698964e-09</td>\n      <td>2.8291325e-10</td>\n      <td>1.0368205e-07</td>\n      <td>0.99830675</td>\n    </tr>\n  </tbody>\n</table>\n<p>1068 rows × 99 columns</p>\n</div>"
     },
     "execution_count": 14,
     "metadata": {},
     "output_type": "execute_result"
    }
   ],
   "source": [
    "df\n"
   ],
   "metadata": {
    "collapsed": false,
    "pycharm": {
     "name": "#%%\n"
    }
   }
  },
  {
   "cell_type": "code",
   "execution_count": 15,
   "outputs": [],
   "source": [
    "df.to_csv('测试集预测结果.csv', index=False)\n"
   ],
   "metadata": {
    "collapsed": false,
    "pycharm": {
     "name": "#%%\n"
    }
   }
  }
 ],
 "metadata": {
  "kernelspec": {
   "display_name": "Python 3",
   "language": "python",
   "name": "python3"
  },
  "language_info": {
   "codemirror_mode": {
    "name": "ipython",
    "version": 2
   },
   "file_extension": ".py",
   "mimetype": "text/x-python",
   "name": "python",
   "nbconvert_exporter": "python",
   "pygments_lexer": "ipython2",
   "version": "2.7.6"
  }
 },
 "nbformat": 4,
 "nbformat_minor": 0
}