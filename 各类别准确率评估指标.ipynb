{
 "cells": [
  {
   "cell_type": "code",
   "execution_count": 2,
   "metadata": {
    "collapsed": true
   },
   "outputs": [],
   "source": [
    "import pandas as pd\n",
    "import numpy as np\n",
    "from tqdm import tqdm\n"
   ]
  },
  {
   "cell_type": "markdown",
   "source": [
    "载入类别名称和ID\n"
   ],
   "metadata": {
    "collapsed": false
   }
  },
  {
   "cell_type": "code",
   "execution_count": 3,
   "outputs": [
    {
     "name": "stdout",
     "output_type": "stream",
     "text": [
      "['乌鸦', '乌龟', '仓鼠', '企鹅', '兔子', '刺猬', '啄木鸟', '土狼', '大猩猩', '大象', '奶牛', '山羊', '斑马', '松鼠', '毛毛虫', '水母', '水獭', '河马', '浣熊', '海星', '海豚', '海豹', '海马', '火烈鸟', '火鸡', '熊', '熊猫', '牛', '牡蛎', '犀牛', '犀鸟', '狐狸', '狗', '狮子', '狼', '猩猩', '猪', '猫', '猫头鹰', '獾', '瓢虫', '甲虫', '章鱼', '羊', '羚羊', '老虎', '老鼠', '考拉', '苍蝇', '蚊子', '蚱蜢', '蛇', '蛾', '蜂鸟', '蜜蜂', '蜥蜴', '蜻蜓', '蝙蝠', '蝴蝶', '蟑螂', '蟹', '袋熊', '袋鼠', '豪猪', '豹', '负鼠', '野牛', '野猪', '金鱼', '霍加皮', '马', '驯鹿', '驴', '鬣狗', '鱿鱼', '鲨鱼', '鲸鱼', '鸭', '鸽子', '鹅', '鹈鹕', '鹦鹉', '鹬', '鹰', '鹿', '麻雀', '黑猩猩', '鼠', '龙虾']\n"
     ]
    }
   ],
   "source": [
    "idx_to_labels = np.load('idx_to_labels.npy', allow_pickle=True).item()\n",
    "# 获得类别名称\n",
    "classes = list(idx_to_labels.values())\n",
    "print(classes)\n"
   ],
   "metadata": {
    "collapsed": false,
    "pycharm": {
     "name": "#%%\n"
    }
   }
  },
  {
   "cell_type": "markdown",
   "source": [
    "载入测试集预测结果表格\n"
   ],
   "metadata": {
    "collapsed": false
   }
  },
  {
   "cell_type": "code",
   "execution_count": 4,
   "outputs": [],
   "source": [
    "df = pd.read_csv('测试集预测结果.csv')\n"
   ],
   "metadata": {
    "collapsed": false,
    "pycharm": {
     "name": "#%%\n"
    }
   }
  },
  {
   "cell_type": "code",
   "execution_count": 5,
   "outputs": [
    {
     "data": {
      "text/plain": "                                     图像路径  标注类别ID 标注类别名称  top-1-预测ID  \\\n0     animals_split\\val\\乌鸦\\197c1012ba.jpg       0     乌鸦         0.0   \n1     animals_split\\val\\乌鸦\\1ecc081899.jpg       0     乌鸦        77.0   \n2     animals_split\\val\\乌鸦\\2caed0387c.jpg       0     乌鸦         0.0   \n3     animals_split\\val\\乌鸦\\376fae5ad1.jpg       0     乌鸦         0.0   \n4     animals_split\\val\\乌鸦\\495ee7079c.jpg       0     乌鸦        83.0   \n...                                   ...     ...    ...         ...   \n1063  animals_split\\val\\龙虾\\dc43d4b46c.jpg      88     龙虾        88.0   \n1064  animals_split\\val\\龙虾\\de356673e0.jpg      88     龙虾        88.0   \n1065  animals_split\\val\\龙虾\\ea19158455.jpg      88     龙虾        88.0   \n1066  animals_split\\val\\龙虾\\eaaa72b4e1.jpg      88     龙虾        88.0   \n1067  animals_split\\val\\龙虾\\f63ab72460.jpg      88     龙虾        88.0   \n\n     top-1-预测名称  top-2-预测ID top-2-预测名称  top-3-预测ID top-3-预测名称  top-n预测正确  ...  \\\n0            乌鸦        30.0         犀鸟        83.0          鹰        1.0  ...   \n1             鸭        78.0         鸽子         0.0         乌鸦        1.0  ...   \n2            乌鸦        78.0         鸽子         6.0        啄木鸟        1.0  ...   \n3            乌鸦        78.0         鸽子         6.0        啄木鸟        1.0  ...   \n4             鹰         0.0         乌鸦        30.0         犀鸟        1.0  ...   \n...         ...         ...        ...         ...        ...        ...  ...   \n1063         龙虾        60.0          蟹        59.0         蟑螂        1.0  ...   \n1064         龙虾        60.0          蟹        56.0         蜻蜓        1.0  ...   \n1065         龙虾        60.0          蟹        74.0         鱿鱼        1.0  ...   \n1066         龙虾        60.0          蟹        74.0         鱿鱼        1.0  ...   \n1067         龙虾        60.0          蟹        74.0         鱿鱼        1.0  ...   \n\n           鹅-预测置信度      鹈鹕-预测置信度      鹦鹉-预测置信度       鹬-预测置信度       鹰-预测置信度  \\\n0     2.406930e-02  4.872751e-03  1.193708e-03  4.377213e-04  2.928943e-02   \n1     4.427672e-02  2.255145e-03  3.520817e-04  1.569593e-04  2.831016e-03   \n2     2.846184e-05  3.236827e-05  2.018931e-04  1.951689e-06  6.844995e-05   \n3     1.861108e-05  4.295955e-05  1.055713e-05  1.063216e-05  1.066599e-03   \n4     6.057041e-04  6.364245e-03  1.867319e-04  4.524062e-06  7.659334e-01   \n...            ...           ...           ...           ...           ...   \n1063  1.427954e-09  2.613506e-09  4.402696e-09  8.515743e-11  2.043058e-10   \n1064  2.152420e-07  5.448326e-07  7.443369e-08  6.269045e-08  3.060451e-07   \n1065  9.239284e-09  1.608318e-08  5.579190e-08  9.524478e-10  1.129226e-08   \n1066  2.772367e-09  1.643180e-07  3.005912e-08  2.510019e-09  1.543016e-09   \n1067  1.711926e-08  5.071337e-08  2.720239e-08  6.671877e-10  4.620428e-09   \n\n           鹿-预测置信度      麻雀-预测置信度     黑猩猩-预测置信度       鼠-预测置信度      龙虾-预测置信度  \n0     2.210004e-04  5.550677e-03  5.904294e-04  4.436836e-04  4.617364e-06  \n1     1.824498e-04  4.241770e-02  2.522623e-05  5.890500e-05  1.537397e-07  \n2     2.714902e-07  5.240315e-04  2.678238e-06  5.925467e-08  7.595760e-09  \n3     1.179922e-06  6.836885e-04  7.617486e-06  5.213173e-07  2.779022e-07  \n4     8.273503e-07  8.859905e-06  7.933735e-05  1.076983e-06  2.668060e-07  \n...            ...           ...           ...           ...           ...  \n1063  4.053370e-09  4.757927e-09  6.240612e-10  3.218852e-09  9.989765e-01  \n1064  5.963250e-07  4.345245e-06  1.136808e-08  5.591950e-08  9.976295e-01  \n1065  2.244606e-09  2.705789e-08  1.039748e-09  2.168128e-09  9.735950e-01  \n1066  1.137880e-08  2.024308e-08  2.277093e-09  1.251990e-08  9.981528e-01  \n1067  3.714672e-09  3.669896e-09  2.829133e-10  1.036820e-07  9.983068e-01  \n\n[1068 rows x 99 columns]",
      "text/html": "<div>\n<style scoped>\n    .dataframe tbody tr th:only-of-type {\n        vertical-align: middle;\n    }\n\n    .dataframe tbody tr th {\n        vertical-align: top;\n    }\n\n    .dataframe thead th {\n        text-align: right;\n    }\n</style>\n<table border=\"1\" class=\"dataframe\">\n  <thead>\n    <tr style=\"text-align: right;\">\n      <th></th>\n      <th>图像路径</th>\n      <th>标注类别ID</th>\n      <th>标注类别名称</th>\n      <th>top-1-预测ID</th>\n      <th>top-1-预测名称</th>\n      <th>top-2-预测ID</th>\n      <th>top-2-预测名称</th>\n      <th>top-3-预测ID</th>\n      <th>top-3-预测名称</th>\n      <th>top-n预测正确</th>\n      <th>...</th>\n      <th>鹅-预测置信度</th>\n      <th>鹈鹕-预测置信度</th>\n      <th>鹦鹉-预测置信度</th>\n      <th>鹬-预测置信度</th>\n      <th>鹰-预测置信度</th>\n      <th>鹿-预测置信度</th>\n      <th>麻雀-预测置信度</th>\n      <th>黑猩猩-预测置信度</th>\n      <th>鼠-预测置信度</th>\n      <th>龙虾-预测置信度</th>\n    </tr>\n  </thead>\n  <tbody>\n    <tr>\n      <th>0</th>\n      <td>animals_split\\val\\乌鸦\\197c1012ba.jpg</td>\n      <td>0</td>\n      <td>乌鸦</td>\n      <td>0.0</td>\n      <td>乌鸦</td>\n      <td>30.0</td>\n      <td>犀鸟</td>\n      <td>83.0</td>\n      <td>鹰</td>\n      <td>1.0</td>\n      <td>...</td>\n      <td>2.406930e-02</td>\n      <td>4.872751e-03</td>\n      <td>1.193708e-03</td>\n      <td>4.377213e-04</td>\n      <td>2.928943e-02</td>\n      <td>2.210004e-04</td>\n      <td>5.550677e-03</td>\n      <td>5.904294e-04</td>\n      <td>4.436836e-04</td>\n      <td>4.617364e-06</td>\n    </tr>\n    <tr>\n      <th>1</th>\n      <td>animals_split\\val\\乌鸦\\1ecc081899.jpg</td>\n      <td>0</td>\n      <td>乌鸦</td>\n      <td>77.0</td>\n      <td>鸭</td>\n      <td>78.0</td>\n      <td>鸽子</td>\n      <td>0.0</td>\n      <td>乌鸦</td>\n      <td>1.0</td>\n      <td>...</td>\n      <td>4.427672e-02</td>\n      <td>2.255145e-03</td>\n      <td>3.520817e-04</td>\n      <td>1.569593e-04</td>\n      <td>2.831016e-03</td>\n      <td>1.824498e-04</td>\n      <td>4.241770e-02</td>\n      <td>2.522623e-05</td>\n      <td>5.890500e-05</td>\n      <td>1.537397e-07</td>\n    </tr>\n    <tr>\n      <th>2</th>\n      <td>animals_split\\val\\乌鸦\\2caed0387c.jpg</td>\n      <td>0</td>\n      <td>乌鸦</td>\n      <td>0.0</td>\n      <td>乌鸦</td>\n      <td>78.0</td>\n      <td>鸽子</td>\n      <td>6.0</td>\n      <td>啄木鸟</td>\n      <td>1.0</td>\n      <td>...</td>\n      <td>2.846184e-05</td>\n      <td>3.236827e-05</td>\n      <td>2.018931e-04</td>\n      <td>1.951689e-06</td>\n      <td>6.844995e-05</td>\n      <td>2.714902e-07</td>\n      <td>5.240315e-04</td>\n      <td>2.678238e-06</td>\n      <td>5.925467e-08</td>\n      <td>7.595760e-09</td>\n    </tr>\n    <tr>\n      <th>3</th>\n      <td>animals_split\\val\\乌鸦\\376fae5ad1.jpg</td>\n      <td>0</td>\n      <td>乌鸦</td>\n      <td>0.0</td>\n      <td>乌鸦</td>\n      <td>78.0</td>\n      <td>鸽子</td>\n      <td>6.0</td>\n      <td>啄木鸟</td>\n      <td>1.0</td>\n      <td>...</td>\n      <td>1.861108e-05</td>\n      <td>4.295955e-05</td>\n      <td>1.055713e-05</td>\n      <td>1.063216e-05</td>\n      <td>1.066599e-03</td>\n      <td>1.179922e-06</td>\n      <td>6.836885e-04</td>\n      <td>7.617486e-06</td>\n      <td>5.213173e-07</td>\n      <td>2.779022e-07</td>\n    </tr>\n    <tr>\n      <th>4</th>\n      <td>animals_split\\val\\乌鸦\\495ee7079c.jpg</td>\n      <td>0</td>\n      <td>乌鸦</td>\n      <td>83.0</td>\n      <td>鹰</td>\n      <td>0.0</td>\n      <td>乌鸦</td>\n      <td>30.0</td>\n      <td>犀鸟</td>\n      <td>1.0</td>\n      <td>...</td>\n      <td>6.057041e-04</td>\n      <td>6.364245e-03</td>\n      <td>1.867319e-04</td>\n      <td>4.524062e-06</td>\n      <td>7.659334e-01</td>\n      <td>8.273503e-07</td>\n      <td>8.859905e-06</td>\n      <td>7.933735e-05</td>\n      <td>1.076983e-06</td>\n      <td>2.668060e-07</td>\n    </tr>\n    <tr>\n      <th>...</th>\n      <td>...</td>\n      <td>...</td>\n      <td>...</td>\n      <td>...</td>\n      <td>...</td>\n      <td>...</td>\n      <td>...</td>\n      <td>...</td>\n      <td>...</td>\n      <td>...</td>\n      <td>...</td>\n      <td>...</td>\n      <td>...</td>\n      <td>...</td>\n      <td>...</td>\n      <td>...</td>\n      <td>...</td>\n      <td>...</td>\n      <td>...</td>\n      <td>...</td>\n      <td>...</td>\n    </tr>\n    <tr>\n      <th>1063</th>\n      <td>animals_split\\val\\龙虾\\dc43d4b46c.jpg</td>\n      <td>88</td>\n      <td>龙虾</td>\n      <td>88.0</td>\n      <td>龙虾</td>\n      <td>60.0</td>\n      <td>蟹</td>\n      <td>59.0</td>\n      <td>蟑螂</td>\n      <td>1.0</td>\n      <td>...</td>\n      <td>1.427954e-09</td>\n      <td>2.613506e-09</td>\n      <td>4.402696e-09</td>\n      <td>8.515743e-11</td>\n      <td>2.043058e-10</td>\n      <td>4.053370e-09</td>\n      <td>4.757927e-09</td>\n      <td>6.240612e-10</td>\n      <td>3.218852e-09</td>\n      <td>9.989765e-01</td>\n    </tr>\n    <tr>\n      <th>1064</th>\n      <td>animals_split\\val\\龙虾\\de356673e0.jpg</td>\n      <td>88</td>\n      <td>龙虾</td>\n      <td>88.0</td>\n      <td>龙虾</td>\n      <td>60.0</td>\n      <td>蟹</td>\n      <td>56.0</td>\n      <td>蜻蜓</td>\n      <td>1.0</td>\n      <td>...</td>\n      <td>2.152420e-07</td>\n      <td>5.448326e-07</td>\n      <td>7.443369e-08</td>\n      <td>6.269045e-08</td>\n      <td>3.060451e-07</td>\n      <td>5.963250e-07</td>\n      <td>4.345245e-06</td>\n      <td>1.136808e-08</td>\n      <td>5.591950e-08</td>\n      <td>9.976295e-01</td>\n    </tr>\n    <tr>\n      <th>1065</th>\n      <td>animals_split\\val\\龙虾\\ea19158455.jpg</td>\n      <td>88</td>\n      <td>龙虾</td>\n      <td>88.0</td>\n      <td>龙虾</td>\n      <td>60.0</td>\n      <td>蟹</td>\n      <td>74.0</td>\n      <td>鱿鱼</td>\n      <td>1.0</td>\n      <td>...</td>\n      <td>9.239284e-09</td>\n      <td>1.608318e-08</td>\n      <td>5.579190e-08</td>\n      <td>9.524478e-10</td>\n      <td>1.129226e-08</td>\n      <td>2.244606e-09</td>\n      <td>2.705789e-08</td>\n      <td>1.039748e-09</td>\n      <td>2.168128e-09</td>\n      <td>9.735950e-01</td>\n    </tr>\n    <tr>\n      <th>1066</th>\n      <td>animals_split\\val\\龙虾\\eaaa72b4e1.jpg</td>\n      <td>88</td>\n      <td>龙虾</td>\n      <td>88.0</td>\n      <td>龙虾</td>\n      <td>60.0</td>\n      <td>蟹</td>\n      <td>74.0</td>\n      <td>鱿鱼</td>\n      <td>1.0</td>\n      <td>...</td>\n      <td>2.772367e-09</td>\n      <td>1.643180e-07</td>\n      <td>3.005912e-08</td>\n      <td>2.510019e-09</td>\n      <td>1.543016e-09</td>\n      <td>1.137880e-08</td>\n      <td>2.024308e-08</td>\n      <td>2.277093e-09</td>\n      <td>1.251990e-08</td>\n      <td>9.981528e-01</td>\n    </tr>\n    <tr>\n      <th>1067</th>\n      <td>animals_split\\val\\龙虾\\f63ab72460.jpg</td>\n      <td>88</td>\n      <td>龙虾</td>\n      <td>88.0</td>\n      <td>龙虾</td>\n      <td>60.0</td>\n      <td>蟹</td>\n      <td>74.0</td>\n      <td>鱿鱼</td>\n      <td>1.0</td>\n      <td>...</td>\n      <td>1.711926e-08</td>\n      <td>5.071337e-08</td>\n      <td>2.720239e-08</td>\n      <td>6.671877e-10</td>\n      <td>4.620428e-09</td>\n      <td>3.714672e-09</td>\n      <td>3.669896e-09</td>\n      <td>2.829133e-10</td>\n      <td>1.036820e-07</td>\n      <td>9.983068e-01</td>\n    </tr>\n  </tbody>\n</table>\n<p>1068 rows × 99 columns</p>\n</div>"
     },
     "execution_count": 5,
     "metadata": {},
     "output_type": "execute_result"
    }
   ],
   "source": [
    "df"
   ],
   "metadata": {
    "collapsed": false,
    "pycharm": {
     "name": "#%%\n"
    }
   }
  },
  {
   "cell_type": "markdown",
   "source": [
    "准确率\n"
   ],
   "metadata": {
    "collapsed": false
   }
  },
  {
   "cell_type": "code",
   "execution_count": 6,
   "outputs": [
    {
     "data": {
      "text/plain": "0.8951310861423221"
     },
     "execution_count": 6,
     "metadata": {},
     "output_type": "execute_result"
    }
   ],
   "source": [
    "sum(df['标注类别名称'] == df['top-1-预测名称']) / len(df)\n"
   ],
   "metadata": {
    "collapsed": false,
    "pycharm": {
     "name": "#%%\n"
    }
   }
  },
  {
   "cell_type": "markdown",
   "source": [
    "top-n准确率"
   ],
   "metadata": {
    "collapsed": false
   }
  },
  {
   "cell_type": "code",
   "execution_count": 7,
   "outputs": [
    {
     "data": {
      "text/plain": "0.9756554307116105"
     },
     "execution_count": 7,
     "metadata": {},
     "output_type": "execute_result"
    }
   ],
   "source": [
    "sum(df['top-n预测正确']) / len(df)\n"
   ],
   "metadata": {
    "collapsed": false,
    "pycharm": {
     "name": "#%%\n"
    }
   }
  },
  {
   "cell_type": "markdown",
   "source": [
    "各类别其它评估指标"
   ],
   "metadata": {
    "collapsed": false
   }
  },
  {
   "cell_type": "code",
   "execution_count": 8,
   "outputs": [],
   "source": [
    "from sklearn.metrics import classification_report\n"
   ],
   "metadata": {
    "collapsed": false,
    "pycharm": {
     "name": "#%%\n"
    }
   }
  },
  {
   "cell_type": "code",
   "execution_count": 9,
   "outputs": [
    {
     "name": "stdout",
     "output_type": "stream",
     "text": [
      "              precision    recall  f1-score   support\n",
      "\n",
      "          乌鸦       0.91      0.83      0.87        12\n",
      "          乌龟       0.92      1.00      0.96        12\n",
      "          仓鼠       0.92      0.92      0.92        12\n",
      "          企鹅       1.00      1.00      1.00        12\n",
      "          兔子       1.00      1.00      1.00        12\n",
      "          刺猬       1.00      0.83      0.91        12\n",
      "         啄木鸟       0.92      1.00      0.96        12\n",
      "          土狼       0.82      0.75      0.78        12\n",
      "         大猩猩       1.00      1.00      1.00        12\n",
      "          大象       1.00      1.00      1.00        12\n",
      "          奶牛       0.62      0.67      0.64        12\n",
      "          山羊       0.69      0.75      0.72        12\n",
      "          斑马       1.00      1.00      1.00        12\n",
      "          松鼠       0.85      0.92      0.88        12\n",
      "         毛毛虫       0.91      0.83      0.87        12\n",
      "          水母       1.00      1.00      1.00        12\n",
      "          水獭       1.00      0.83      0.91        12\n",
      "          河马       1.00      1.00      1.00        12\n",
      "          浣熊       0.86      1.00      0.92        12\n",
      "          海星       0.92      1.00      0.96        12\n",
      "          海豚       0.69      0.92      0.79        12\n",
      "          海豹       0.92      1.00      0.96        12\n",
      "          海马       1.00      0.75      0.86        12\n",
      "         火烈鸟       1.00      0.92      0.96        12\n",
      "          火鸡       1.00      0.92      0.96        12\n",
      "           熊       1.00      0.92      0.96        12\n",
      "          熊猫       0.92      1.00      0.96        12\n",
      "           牛       0.56      0.75      0.64        12\n",
      "          牡蛎       1.00      1.00      1.00        12\n",
      "          犀牛       0.92      0.92      0.92        12\n",
      "          犀鸟       1.00      0.92      0.96        12\n",
      "          狐狸       1.00      1.00      1.00        12\n",
      "           狗       0.73      0.67      0.70        12\n",
      "          狮子       1.00      1.00      1.00        12\n",
      "           狼       0.75      1.00      0.86        12\n",
      "          猩猩       1.00      1.00      1.00        12\n",
      "           猪       0.75      0.75      0.75        12\n",
      "           猫       0.90      0.75      0.82        12\n",
      "         猫头鹰       0.92      0.92      0.92        12\n",
      "           獾       0.92      0.92      0.92        12\n",
      "          瓢虫       0.86      1.00      0.92        12\n",
      "          甲虫       0.88      0.58      0.70        12\n",
      "          章鱼       0.92      1.00      0.96        12\n",
      "           羊       0.80      0.67      0.73        12\n",
      "          羚羊       0.91      0.83      0.87        12\n",
      "          老虎       1.00      1.00      1.00        12\n",
      "          老鼠       1.00      0.58      0.74        12\n",
      "          考拉       1.00      1.00      1.00        12\n",
      "          苍蝇       0.75      1.00      0.86        12\n",
      "          蚊子       0.92      0.92      0.92        12\n",
      "          蚱蜢       0.92      1.00      0.96        12\n",
      "           蛇       0.91      0.83      0.87        12\n",
      "           蛾       1.00      0.83      0.91        12\n",
      "          蜂鸟       0.92      1.00      0.96        12\n",
      "          蜜蜂       0.92      0.92      0.92        12\n",
      "          蜥蜴       0.73      0.92      0.81        12\n",
      "          蜻蜓       0.92      1.00      0.96        12\n",
      "          蝙蝠       0.75      0.75      0.75        12\n",
      "          蝴蝶       1.00      0.83      0.91        12\n",
      "          蟑螂       1.00      0.83      0.91        12\n",
      "           蟹       1.00      0.92      0.96        12\n",
      "          袋熊       0.86      1.00      0.92        12\n",
      "          袋鼠       1.00      0.92      0.96        12\n",
      "          豪猪       0.85      0.92      0.88        12\n",
      "           豹       1.00      1.00      1.00        12\n",
      "          负鼠       0.89      0.67      0.76        12\n",
      "          野牛       0.92      0.92      0.92        12\n",
      "          野猪       0.91      0.83      0.87        12\n",
      "          金鱼       1.00      1.00      1.00        12\n",
      "         霍加皮       0.92      1.00      0.96        12\n",
      "           马       0.69      0.92      0.79        12\n",
      "          驯鹿       0.82      0.75      0.78        12\n",
      "           驴       0.82      0.75      0.78        12\n",
      "          鬣狗       1.00      0.92      0.96        12\n",
      "          鱿鱼       1.00      0.92      0.96        12\n",
      "          鲨鱼       0.92      1.00      0.96        12\n",
      "          鲸鱼       0.86      0.50      0.63        12\n",
      "           鸭       0.69      0.75      0.72        12\n",
      "          鸽子       1.00      1.00      1.00        12\n",
      "           鹅       0.91      0.83      0.87        12\n",
      "          鹈鹕       0.83      0.83      0.83        12\n",
      "          鹦鹉       1.00      0.83      0.91        12\n",
      "           鹬       1.00      1.00      1.00        12\n",
      "           鹰       0.92      1.00      0.96        12\n",
      "           鹿       0.75      0.75      0.75        12\n",
      "          麻雀       1.00      1.00      1.00        12\n",
      "         黑猩猩       1.00      1.00      1.00        12\n",
      "           鼠       0.61      0.92      0.73        12\n",
      "          龙虾       0.86      1.00      0.92        12\n",
      "\n",
      "    accuracy                           0.90      1068\n",
      "   macro avg       0.90      0.90      0.89      1068\n",
      "weighted avg       0.90      0.90      0.89      1068\n",
      "\n"
     ]
    }
   ],
   "source": [
    "print(classification_report(df['标注类别名称'], df['top-1-预测名称'], target_names=classes))\n"
   ],
   "metadata": {
    "collapsed": false,
    "pycharm": {
     "name": "#%%\n"
    }
   }
  },
  {
   "cell_type": "markdown",
   "source": [
    "macro avg 宏平均：直接将每一类的评估指标求和取平均（算数平均值）\n",
    "\n",
    "weighted avg 加权平均：按样本数量（support）加权计算评估指标的平均值\n"
   ],
   "metadata": {
    "collapsed": false,
    "pycharm": {
     "name": "#%% md\n"
    }
   }
  },
  {
   "cell_type": "code",
   "execution_count": 10,
   "outputs": [],
   "source": [
    "report = classification_report(df['标注类别名称'], df['top-1-预测名称'], target_names=classes, output_dict=True)\n",
    "del report['accuracy']\n",
    "df_report = pd.DataFrame(report).transpose()\n"
   ],
   "metadata": {
    "collapsed": false,
    "pycharm": {
     "name": "#%%\n"
    }
   }
  },
  {
   "cell_type": "code",
   "execution_count": 11,
   "outputs": [
    {
     "data": {
      "text/plain": "              precision    recall  f1-score  support\n乌鸦             0.909091  0.833333  0.869565     12.0\n乌龟             0.923077  1.000000  0.960000     12.0\n仓鼠             0.916667  0.916667  0.916667     12.0\n企鹅             1.000000  1.000000  1.000000     12.0\n兔子             1.000000  1.000000  1.000000     12.0\n...                 ...       ...       ...      ...\n黑猩猩            1.000000  1.000000  1.000000     12.0\n鼠              0.611111  0.916667  0.733333     12.0\n龙虾             0.857143  1.000000  0.923077     12.0\nmacro avg      0.903788  0.895131  0.894714   1068.0\nweighted avg   0.903788  0.895131  0.894714   1068.0\n\n[91 rows x 4 columns]",
      "text/html": "<div>\n<style scoped>\n    .dataframe tbody tr th:only-of-type {\n        vertical-align: middle;\n    }\n\n    .dataframe tbody tr th {\n        vertical-align: top;\n    }\n\n    .dataframe thead th {\n        text-align: right;\n    }\n</style>\n<table border=\"1\" class=\"dataframe\">\n  <thead>\n    <tr style=\"text-align: right;\">\n      <th></th>\n      <th>precision</th>\n      <th>recall</th>\n      <th>f1-score</th>\n      <th>support</th>\n    </tr>\n  </thead>\n  <tbody>\n    <tr>\n      <th>乌鸦</th>\n      <td>0.909091</td>\n      <td>0.833333</td>\n      <td>0.869565</td>\n      <td>12.0</td>\n    </tr>\n    <tr>\n      <th>乌龟</th>\n      <td>0.923077</td>\n      <td>1.000000</td>\n      <td>0.960000</td>\n      <td>12.0</td>\n    </tr>\n    <tr>\n      <th>仓鼠</th>\n      <td>0.916667</td>\n      <td>0.916667</td>\n      <td>0.916667</td>\n      <td>12.0</td>\n    </tr>\n    <tr>\n      <th>企鹅</th>\n      <td>1.000000</td>\n      <td>1.000000</td>\n      <td>1.000000</td>\n      <td>12.0</td>\n    </tr>\n    <tr>\n      <th>兔子</th>\n      <td>1.000000</td>\n      <td>1.000000</td>\n      <td>1.000000</td>\n      <td>12.0</td>\n    </tr>\n    <tr>\n      <th>...</th>\n      <td>...</td>\n      <td>...</td>\n      <td>...</td>\n      <td>...</td>\n    </tr>\n    <tr>\n      <th>黑猩猩</th>\n      <td>1.000000</td>\n      <td>1.000000</td>\n      <td>1.000000</td>\n      <td>12.0</td>\n    </tr>\n    <tr>\n      <th>鼠</th>\n      <td>0.611111</td>\n      <td>0.916667</td>\n      <td>0.733333</td>\n      <td>12.0</td>\n    </tr>\n    <tr>\n      <th>龙虾</th>\n      <td>0.857143</td>\n      <td>1.000000</td>\n      <td>0.923077</td>\n      <td>12.0</td>\n    </tr>\n    <tr>\n      <th>macro avg</th>\n      <td>0.903788</td>\n      <td>0.895131</td>\n      <td>0.894714</td>\n      <td>1068.0</td>\n    </tr>\n    <tr>\n      <th>weighted avg</th>\n      <td>0.903788</td>\n      <td>0.895131</td>\n      <td>0.894714</td>\n      <td>1068.0</td>\n    </tr>\n  </tbody>\n</table>\n<p>91 rows × 4 columns</p>\n</div>"
     },
     "execution_count": 11,
     "metadata": {},
     "output_type": "execute_result"
    }
   ],
   "source": [
    "df_report\n"
   ],
   "metadata": {
    "collapsed": false,
    "pycharm": {
     "name": "#%%\n"
    }
   }
  },
  {
   "cell_type": "markdown",
   "source": [
    "补充：各类别准确率（其实就是recall）"
   ],
   "metadata": {
    "collapsed": false
   }
  },
  {
   "cell_type": "code",
   "execution_count": 12,
   "outputs": [
    {
     "name": "stderr",
     "output_type": "stream",
     "text": [
      "100%|██████████| 89/89 [00:00<00:00, 1239.41it/s]\n"
     ]
    }
   ],
   "source": [
    "accuracy_list = []\n",
    "for fruit in tqdm(classes):\n",
    "    df_temp = df[df['标注类别名称']==fruit]\n",
    "    accuracy = sum(df_temp['标注类别名称'] == df_temp['top-1-预测名称']) / len(df_temp)\n",
    "    accuracy_list.append(accuracy)\n"
   ],
   "metadata": {
    "collapsed": false,
    "pycharm": {
     "name": "#%%\n"
    }
   }
  },
  {
   "cell_type": "code",
   "execution_count": 13,
   "outputs": [],
   "source": [
    "# 计算 宏平均准确率 和 加权平均准确率\n",
    "acc_macro = np.mean(accuracy_list)\n",
    "acc_weighted = sum(accuracy_list * df_report.iloc[:-2]['support'] / len(df))\n",
    "\n",
    "accuracy_list.append(acc_macro)\n",
    "accuracy_list.append(acc_weighted)\n",
    "\n",
    "df_report['accuracy'] = accuracy_list"
   ],
   "metadata": {
    "collapsed": false,
    "pycharm": {
     "name": "#%%\n"
    }
   }
  },
  {
   "cell_type": "code",
   "execution_count": 14,
   "outputs": [
    {
     "data": {
      "text/plain": "              precision    recall  f1-score  support  accuracy\n乌鸦             0.909091  0.833333  0.869565     12.0  0.833333\n乌龟             0.923077  1.000000  0.960000     12.0  1.000000\n仓鼠             0.916667  0.916667  0.916667     12.0  0.916667\n企鹅             1.000000  1.000000  1.000000     12.0  1.000000\n兔子             1.000000  1.000000  1.000000     12.0  1.000000\n...                 ...       ...       ...      ...       ...\n黑猩猩            1.000000  1.000000  1.000000     12.0  1.000000\n鼠              0.611111  0.916667  0.733333     12.0  0.916667\n龙虾             0.857143  1.000000  0.923077     12.0  1.000000\nmacro avg      0.903788  0.895131  0.894714   1068.0  0.895131\nweighted avg   0.903788  0.895131  0.894714   1068.0  0.895131\n\n[91 rows x 5 columns]",
      "text/html": "<div>\n<style scoped>\n    .dataframe tbody tr th:only-of-type {\n        vertical-align: middle;\n    }\n\n    .dataframe tbody tr th {\n        vertical-align: top;\n    }\n\n    .dataframe thead th {\n        text-align: right;\n    }\n</style>\n<table border=\"1\" class=\"dataframe\">\n  <thead>\n    <tr style=\"text-align: right;\">\n      <th></th>\n      <th>precision</th>\n      <th>recall</th>\n      <th>f1-score</th>\n      <th>support</th>\n      <th>accuracy</th>\n    </tr>\n  </thead>\n  <tbody>\n    <tr>\n      <th>乌鸦</th>\n      <td>0.909091</td>\n      <td>0.833333</td>\n      <td>0.869565</td>\n      <td>12.0</td>\n      <td>0.833333</td>\n    </tr>\n    <tr>\n      <th>乌龟</th>\n      <td>0.923077</td>\n      <td>1.000000</td>\n      <td>0.960000</td>\n      <td>12.0</td>\n      <td>1.000000</td>\n    </tr>\n    <tr>\n      <th>仓鼠</th>\n      <td>0.916667</td>\n      <td>0.916667</td>\n      <td>0.916667</td>\n      <td>12.0</td>\n      <td>0.916667</td>\n    </tr>\n    <tr>\n      <th>企鹅</th>\n      <td>1.000000</td>\n      <td>1.000000</td>\n      <td>1.000000</td>\n      <td>12.0</td>\n      <td>1.000000</td>\n    </tr>\n    <tr>\n      <th>兔子</th>\n      <td>1.000000</td>\n      <td>1.000000</td>\n      <td>1.000000</td>\n      <td>12.0</td>\n      <td>1.000000</td>\n    </tr>\n    <tr>\n      <th>...</th>\n      <td>...</td>\n      <td>...</td>\n      <td>...</td>\n      <td>...</td>\n      <td>...</td>\n    </tr>\n    <tr>\n      <th>黑猩猩</th>\n      <td>1.000000</td>\n      <td>1.000000</td>\n      <td>1.000000</td>\n      <td>12.0</td>\n      <td>1.000000</td>\n    </tr>\n    <tr>\n      <th>鼠</th>\n      <td>0.611111</td>\n      <td>0.916667</td>\n      <td>0.733333</td>\n      <td>12.0</td>\n      <td>0.916667</td>\n    </tr>\n    <tr>\n      <th>龙虾</th>\n      <td>0.857143</td>\n      <td>1.000000</td>\n      <td>0.923077</td>\n      <td>12.0</td>\n      <td>1.000000</td>\n    </tr>\n    <tr>\n      <th>macro avg</th>\n      <td>0.903788</td>\n      <td>0.895131</td>\n      <td>0.894714</td>\n      <td>1068.0</td>\n      <td>0.895131</td>\n    </tr>\n    <tr>\n      <th>weighted avg</th>\n      <td>0.903788</td>\n      <td>0.895131</td>\n      <td>0.894714</td>\n      <td>1068.0</td>\n      <td>0.895131</td>\n    </tr>\n  </tbody>\n</table>\n<p>91 rows × 5 columns</p>\n</div>"
     },
     "execution_count": 14,
     "metadata": {},
     "output_type": "execute_result"
    }
   ],
   "source": [
    "\n",
    "df_report"
   ],
   "metadata": {
    "collapsed": false,
    "pycharm": {
     "name": "#%%\n"
    }
   }
  },
  {
   "cell_type": "code",
   "execution_count": 15,
   "outputs": [],
   "source": [
    "\n",
    "df_report.to_csv('各类别准确率评估指标.csv', index_label='类别')"
   ],
   "metadata": {
    "collapsed": false,
    "pycharm": {
     "name": "#%%\n"
    }
   }
  }
 ],
 "metadata": {
  "kernelspec": {
   "display_name": "Python 3",
   "language": "python",
   "name": "python3"
  },
  "language_info": {
   "codemirror_mode": {
    "name": "ipython",
    "version": 2
   },
   "file_extension": ".py",
   "mimetype": "text/x-python",
   "name": "python",
   "nbconvert_exporter": "python",
   "pygments_lexer": "ipython2",
   "version": "2.7.6"
  }
 },
 "nbformat": 4,
 "nbformat_minor": 0
}